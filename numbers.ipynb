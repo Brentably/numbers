{
 "cells": [
  {
   "cell_type": "code",
   "execution_count": 206,
   "metadata": {},
   "outputs": [],
   "source": [
    "import random\n",
    "\n",
    "sys_rand = random.SystemRandom()\n",
    "def random_with_probability(p):\n",
    "    return 1 if sys_rand.random() < p else 0\n",
    "\n",
    "def gen_biased_list(p, n): \n",
    "    list = []\n",
    "    for _ in range(n): \n",
    "        binNum = random_with_probability(p)\n",
    "        list.append(binNum)\n",
    "    return list\n",
    "\n",
    "biased_list = gen_biased_list(random.random(), 1000)\n",
    "# print(biased_list)\n",
    "#notice how when you go by pairs of two, even though 1 number may be more probably, the pair 1, 0 and 0, 1 are equally probable"
   ]
  },
  {
   "cell_type": "code",
   "execution_count": 207,
   "metadata": {},
   "outputs": [],
   "source": [
    "def get_fair_num(biased_list): \n",
    "    numToMap = {0: 0, 1: 0}\n",
    "\n",
    "    current = 0\n",
    "    for i in range(0, len(biased_list), 2):\n",
    "        pair = [biased_list[i], biased_list[i+1]]\n",
    "        if(pair[0] == pair[1]): continue #skip over the 0,0's and the 1,1's\n",
    "        if(pair == [0, 1] or pair == [1, 0]): \n",
    "            numToMap[current] += 1\n",
    "        # if(): numToMap[1] += 1\n",
    "            current = 1 if current == 0 else 0\n",
    "\n",
    "    # print(numToMap)\n",
    "    if numToMap[0] > numToMap[1]: \n",
    "        # print('0 is winner')\n",
    "        return 0 \n",
    "    else: \n",
    "        # print(\"1 is winner\")\n",
    "        return 1\n",
    "\n",
    "winner = get_fair_num(biased_list)"
   ]
  },
  {
   "cell_type": "code",
   "execution_count": 220,
   "metadata": {},
   "outputs": [
    {
     "name": "stdout",
     "output_type": "stream",
     "text": [
      "p is 0.01\n",
      "{0: 4965, 1: 5035}\n"
     ]
    }
   ],
   "source": [
    "binDist = {0: 0, 1: 0}\n",
    "p = 0.01\n",
    "print(f'p is {p}')\n",
    "for _ in range(10000):\n",
    "    biased_list = gen_biased_list(p, 500)\n",
    "    winner = get_fair_num(biased_list)\n",
    "    binDist[winner] += 1\n",
    "\n",
    "print(binDist)"
   ]
  }
 ],
 "metadata": {
  "kernelspec": {
   "display_name": "venv",
   "language": "python",
   "name": "python3"
  },
  "language_info": {
   "codemirror_mode": {
    "name": "ipython",
    "version": 3
   },
   "file_extension": ".py",
   "mimetype": "text/x-python",
   "name": "python",
   "nbconvert_exporter": "python",
   "pygments_lexer": "ipython3",
   "version": "3.11.2"
  },
  "orig_nbformat": 4
 },
 "nbformat": 4,
 "nbformat_minor": 2
}
